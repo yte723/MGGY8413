{
 "cells": [
  {
   "cell_type": "code",
   "execution_count": 1,
   "id": "23aa15e8-89d6-4425-a1db-8dd72de8b7df",
   "metadata": {
    "tags": []
   },
   "outputs": [],
   "source": [
    "import pandas as pd\n",
    "df = pd.read_pickle('shared/Project-3_NYC_311_Calls.pkl')[['Created Date', 'Unique Key','Complaint Type']]\n",
    "\n",
    "df['Created Date'] = pd.to_datetime(df['Created Date'])\n",
    "df.set_index('Created Date', inplace=True)"
   ]
  },
  {
   "cell_type": "code",
   "execution_count": 2,
   "id": "974b7b3c-2b72-4d47-86d9-11d004ce1a01",
   "metadata": {
    "tags": []
   },
   "outputs": [
    {
     "name": "stdout",
     "output_type": "stream",
     "text": [
      "Average number of daily complaints in 2022: 8684.320547945206\n"
     ]
    }
   ],
   "source": [
    "df_2022 = df[df.index.year == 2022]\n",
    "daily_complaints_2022 = df_2022.resample('D')['Unique Key'].count()\n",
    "average_daily_complaints_2022 = daily_complaints_2022.mean()\n",
    "\n",
    "print(f\"Average number of daily complaints in 2022: {average_daily_complaints_2022}\")"
   ]
  },
  {
   "cell_type": "code",
   "execution_count": 3,
   "id": "1579eefc-7681-499a-be91-3b99c10983c1",
   "metadata": {
    "tags": []
   },
   "outputs": [
    {
     "name": "stdout",
     "output_type": "stream",
     "text": [
      "Date with the maximum number of calls: 2020-08-04 00:00:00\n",
      "Most common complaint on this date: Damaged Tree\n"
     ]
    }
   ],
   "source": [
    "daily_call_counts = df.resample('D').size()\n",
    "\n",
    "max_calls_date = daily_call_counts.idxmax()\n",
    "df_max_calls_day = df[df.index.date == max_calls_date.date()]\n",
    "most_common_complaint = df_max_calls_day['Complaint Type'].mode()[0]\n",
    "\n",
    "print(f\"Date with the maximum number of calls: {max_calls_date}\")\n",
    "print(f\"Most common complaint on this date: {most_common_complaint}\")"
   ]
  },
  {
   "cell_type": "code",
   "execution_count": 5,
   "id": "11de3a2e-868e-4a15-8c1d-2f192309a761",
   "metadata": {
    "tags": []
   },
   "outputs": [
    {
     "name": "stdout",
     "output_type": "stream",
     "text": [
      "Quietest month: December\n"
     ]
    }
   ],
   "source": [
    "import calendar\n",
    "\n",
    "df['Month'] = df.index.month\n",
    "monthly_call_counts = df.groupby('Month')['Unique Key'].count()\n",
    "\n",
    "quietest_month = monthly_call_counts.idxmin()\n",
    "quietest_month_count = monthly_call_counts.min()\n",
    "\n",
    "quietest_month_name = calendar.month_name[quietest_month]\n",
    "\n",
    "print(f\"Quietest month: {quietest_month_name}\")"
   ]
  },
  {
   "cell_type": "code",
   "execution_count": 6,
   "id": "c2bd8b08-4a6f-404c-88f3-3281103d0818",
   "metadata": {
    "tags": []
   },
   "outputs": [
    {
     "data": {
      "text/plain": [
       "(-1106, 183)"
      ]
     },
     "execution_count": 6,
     "metadata": {},
     "output_type": "execute_result"
    }
   ],
   "source": [
    "import statsmodels.api as sm\n",
    "from statsmodels.tsa.seasonal import seasonal_decompose\n",
    "\n",
    "daily_df = df.resample('D').size()\n",
    "\n",
    "decomposition = seasonal_decompose(daily_df, model='additive', period=365)\n",
    "\n",
    "seasonal = decomposition.seasonal\n",
    "\n",
    "decomposition_annual = seasonal_decompose(daily_df, model='additive', period=365)\n",
    "decomposition_weekly = seasonal_decompose(daily_df, model='additive', period=7)\n",
    "\n",
    "seasonal_annual = decomposition_annual.seasonal\n",
    "seasonal_weekly = decomposition_weekly.seasonal\n",
    "\n",
    "seasonal_value_annual = round(seasonal_annual[pd.to_datetime('2020-12-25')])\n",
    "seasonal_value_weekly = round(seasonal_weekly[pd.to_datetime('2020-12-25')])\n",
    "\n",
    "seasonal_value_annual, seasonal_value_weekly"
   ]
  },
  {
   "cell_type": "code",
   "execution_count": 7,
   "id": "ea5e2e4d-afbe-4b5d-a097-eca4f374cb70",
   "metadata": {
    "tags": []
   },
   "outputs": [
    {
     "name": "stdout",
     "output_type": "stream",
     "text": [
      "Autocorrelation with a lag of 1 day: 0.7517059728398577\n"
     ]
    }
   ],
   "source": [
    "daily_df = df.resample('D').size()\n",
    "autocorrelation_lag_1 = daily_df.autocorr(lag=1)\n",
    "\n",
    "print(f\"Autocorrelation with a lag of 1 day: {autocorrelation_lag_1}\")"
   ]
  },
  {
   "cell_type": "code",
   "execution_count": 8,
   "id": "3cf7adab-210e-4f1e-86fe-5a07f0d3f7fc",
   "metadata": {
    "tags": []
   },
   "outputs": [
    {
     "name": "stderr",
     "output_type": "stream",
     "text": [
      "15:27:58 - cmdstanpy - INFO - Chain [1] start processing\n",
      "15:27:59 - cmdstanpy - INFO - Chain [1] done processing\n"
     ]
    },
    {
     "name": "stdout",
     "output_type": "stream",
     "text": [
      "RMSE on the test set: 1231.513760758433\n"
     ]
    }
   ],
   "source": [
    "from prophet import Prophet\n",
    "from sklearn.metrics import mean_squared_error\n",
    "import numpy as np\n",
    "\n",
    "df_prophet = daily_df.reset_index()\n",
    "df_prophet.columns = ['ds', 'y']\n",
    "\n",
    "train = df_prophet.iloc[:-90]\n",
    "test = df_prophet.iloc[-90:]\n",
    "\n",
    "model = Prophet()\n",
    "model.fit(train)\n",
    "\n",
    "future = model.make_future_dataframe(periods=90)\n",
    "forecast = model.predict(future)\n",
    "\n",
    "y_pred = forecast['yhat'].iloc[-90:]\n",
    "\n",
    "rmse = np.sqrt(mean_squared_error(test['y'], y_pred))\n",
    "print(f\"RMSE on the test set: {rmse}\")"
   ]
  }
 ],
 "metadata": {
  "kernelspec": {
   "display_name": "Python [conda env:mggy8413]",
   "language": "python",
   "name": "conda-env-mggy8413-py"
  },
  "language_info": {
   "codemirror_mode": {
    "name": "ipython",
    "version": 3
   },
   "file_extension": ".py",
   "mimetype": "text/x-python",
   "name": "python",
   "nbconvert_exporter": "python",
   "pygments_lexer": "ipython3",
   "version": "3.10.12"
  }
 },
 "nbformat": 4,
 "nbformat_minor": 5
}
