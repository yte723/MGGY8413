{
 "cells": [
  {
   "cell_type": "code",
   "execution_count": 1,
   "id": "1df99412-0232-4b5d-9fe9-84af749f5138",
   "metadata": {
    "tags": []
   },
   "outputs": [],
   "source": [
    "import pandas as pd\n",
    "import matplotlib.pyplot as plt\n",
    "import numpy as np\n",
    "from sklearn import preprocessing\n",
    "from imblearn.under_sampling import RandomUnderSampler\n",
    "from sklearn.model_selection import train_test_split\n",
    "from sklearn.metrics import classification_report, confusion_matrix\n",
    "from xgboost import XGBClassifier\n",
    "from sklearn.metrics import precision_recall_curve\n",
    "  \n",
    "df = pd.read_csv('shared/complaints_25Nov21.csv')\n",
    "df.fillna('missing', inplace=True)\n",
    "\n",
    "# step2\n",
    "X = df[['Product', 'Sub-product', 'Issue', 'State', 'Tags', 'Submitted via', 'Company response to consumer', 'Timely response?']]\n",
    "y = df['Consumer disputed?']\n",
    "X = pd.get_dummies(X)\n",
    "\n",
    "# step2.b\n",
    "le = preprocessing.LabelEncoder()\n",
    "y = le.fit_transform(y)\n",
    "\n",
    "# step3\n",
    "X_train, X_test, y_train, y_test = train_test_split(X, y, test_size=0.2, random_state=123)\n",
    "\n",
    "# step4\n",
    "if y_train.mean() < 0.3:\n",
    "    undersampler = RandomUnderSampler(random_state=123)\n",
    "    X_train, y_train = undersampler.fit_resample(X_train, y_train)"
   ]
  },
  {
   "cell_type": "code",
   "execution_count": 2,
   "id": "09cfd96f-746a-4fec-b2b2-3ef62f8b2d20",
   "metadata": {
    "tags": []
   },
   "outputs": [
    {
     "name": "stdout",
     "output_type": "stream",
     "text": [
      "              precision    recall  f1-score   support\n",
      "\n",
      "           0       0.84      0.53      0.65     32504\n",
      "           1       0.27      0.63      0.38      8948\n",
      "\n",
      "    accuracy                           0.55     41452\n",
      "   macro avg       0.55      0.58      0.51     41452\n",
      "weighted avg       0.72      0.55      0.59     41452\n",
      "\n",
      "[[17128 15376]\n",
      " [ 3302  5646]]\n"
     ]
    }
   ],
   "source": [
    "# step5\n",
    "model_xgb = XGBClassifier(random_state=123)\n",
    "model_xgb.fit(X_train, y_train)\n",
    "y_pred = model_xgb.predict(X_test)\n",
    "\n",
    "# step6\n",
    "print(classification_report(y_test, y_pred))\n",
    "print(confusion_matrix(y_test, y_pred))"
   ]
  },
  {
   "cell_type": "code",
   "execution_count": 3,
   "id": "593c6432-9346-4b77-8134-f8412f1204e4",
   "metadata": {
    "tags": []
   },
   "outputs": [
    {
     "name": "stdout",
     "output_type": "stream",
     "text": [
      "base cost: 8619200\n",
      "model cost: 7688180\n"
     ]
    }
   ],
   "source": [
    "# step7 q4\n",
    "base_case_cost = y_test.sum() * 600 + (len(y_test) - y_test.sum()) * 100\n",
    "print(\"base cost:\", base_case_cost)\n",
    "\n",
    "# step8 q5\n",
    "tn, fp, fn, tp = confusion_matrix(y_test, y_pred).ravel()\n",
    "model_cost = tp * 190 + tn * 100 + fp * 190 + fn * 600\n",
    "print(\"model cost:\", model_cost)"
   ]
  },
  {
   "cell_type": "code",
   "execution_count": 4,
   "id": "ee78091a-6136-4729-9b4b-f898e22f5f3f",
   "metadata": {
    "tags": []
   },
   "outputs": [
    {
     "name": "stdout",
     "output_type": "stream",
     "text": [
      "Threshold with minimum cost: 0.4418143033981323\n"
     ]
    }
   ],
   "source": [
    "# step9 q7\n",
    "probs = model_xgb.predict_proba(X_test)[:, 1]\n",
    "precision, recall, thresholds = precision_recall_curve(y_test, probs)\n",
    "thresholds = np.append(thresholds, 1)\n",
    "\n",
    "costs = []\n",
    "for threshold in thresholds:\n",
    "    y_pred_adj = (probs >= threshold).astype(int)\n",
    "    tn, fp, fn, tp = confusion_matrix(y_test, y_pred_adj).ravel()\n",
    "    cost = tp * 190 + tn * 100 + fp * 190 + fn * 600\n",
    "    costs.append(cost)\n",
    "\n",
    "min_cost_threshold = thresholds[np.argmin(costs)]\n",
    "print(\"Threshold with minimum cost:\", min_cost_threshold)"
   ]
  },
  {
   "cell_type": "code",
   "execution_count": 5,
   "id": "f36d6156-fe85-4d2e-acf7-d02397029bcf",
   "metadata": {
    "tags": []
   },
   "outputs": [
    {
     "name": "stdout",
     "output_type": "stream",
     "text": [
      "adjusted threshold cost: 7605970\n"
     ]
    }
   ],
   "source": [
    "#q6 \n",
    "y_pred_adj = (probs >= min_cost_threshold).astype(int)\n",
    "tn, fp, fn, tp = confusion_matrix(y_test, y_pred_adj).ravel()\n",
    "cost = tp * 190 + tn * 100 + fp * 190 + fn * 600\n",
    "print(\"adjusted threshold cost:\", cost)"
   ]
  },
  {
   "cell_type": "code",
   "execution_count": 6,
   "id": "ff0d4f21-ac60-4b0e-9a19-14e501d282e9",
   "metadata": {
    "tags": []
   },
   "outputs": [
    {
     "data": {
      "text/plain": [
       "0.21586413200810575"
      ]
     },
     "execution_count": 6,
     "metadata": {},
     "output_type": "execute_result"
    }
   ],
   "source": [
    "#q1\n",
    "proportion_dispute_test = y_test.mean()\n",
    "proportion_dispute_test"
   ]
  },
  {
   "cell_type": "code",
   "execution_count": 7,
   "id": "7fb576e7-bf60-44a7-84bc-0739994fe595",
   "metadata": {
    "tags": []
   },
   "outputs": [
    {
     "data": {
      "text/plain": [
       "0.5"
      ]
     },
     "execution_count": 7,
     "metadata": {},
     "output_type": "execute_result"
    }
   ],
   "source": [
    "#q2\n",
    "proportion_dispute_train_undersampled = y_train.mean()\n",
    "proportion_dispute_train_undersampled"
   ]
  },
  {
   "cell_type": "code",
   "execution_count": 8,
   "id": "2fd3a192-06e5-4b3a-946c-b8f0a2c3a275",
   "metadata": {
    "tags": []
   },
   "outputs": [
    {
     "data": {
      "text/plain": [
       "0.6309789897183729"
      ]
     },
     "execution_count": 8,
     "metadata": {},
     "output_type": "execute_result"
    }
   ],
   "source": [
    "#q3\n",
    "from sklearn.metrics import recall_score\n",
    "recall = recall_score(y_test, y_pred)\n",
    "recall"
   ]
  }
 ],
 "metadata": {
  "kernelspec": {
   "display_name": "Python [conda env:mggy8413]",
   "language": "python",
   "name": "conda-env-mggy8413-py"
  },
  "language_info": {
   "codemirror_mode": {
    "name": "ipython",
    "version": 3
   },
   "file_extension": ".py",
   "mimetype": "text/x-python",
   "name": "python",
   "nbconvert_exporter": "python",
   "pygments_lexer": "ipython3",
   "version": "3.10.12"
  }
 },
 "nbformat": 4,
 "nbformat_minor": 5
}
