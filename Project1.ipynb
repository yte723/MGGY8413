{
 "cells": [
  {
   "cell_type": "markdown",
   "id": "e26cf58f-471f-40f4-8e05-a67c3925e7c3",
   "metadata": {},
   "source": [
    "# NY Motor Vehicle Collisions – Exploratory Data Analysis  \n",
    "In this notebook, we analyze New York’s Vehicular crash data available at https://data.cityofnewyork.us/Public-Safety/Motor-Vehicle-Collisions-Crashes/h9gi-nx95\n",
    "\n",
    "\n",
    "The data contains information from all police reported motor vehicle collisions in NYC. The information for this dataset is collated from the police report, called MV104-AN, which is required to be filled out for collisions where someone is injured or killed, or where there is at least $1000 worth of damage.\n",
    "\n",
    "Data is available from 2012-07-01 onwards, however for this analysis, we will limit ourselves to the period up to 2023-08-15, which is when the data was downloaded.\n",
    "\n",
    "We find that this data contains over 2 million observations, which allows us to explore several aspects of vehicle crashes in NY's boroughs.\n",
    "\n",
    "The data dictionary for the data is also available at the URL above.\n",
    "\n",
    "First, we perform unstructured exploration of the data, and then try to answer the following questions:\n",
    "\n",
    "- We look for which borough has had the maximum number of crashes reported since 2012.\n",
    "\n",
    "- We relate the number of crashes to to the borough's population to find out which borough has the maximum number of crashes for every 100,000 people. Even though the data does not have this information, we can combine the crash data with the population estimates for the boroughs also available from the City of New York's website (https://data.cityofnewyork.us/City-Government/New-York-City-Population-by-Borough-1950-2040/xywu-7bv9)\n",
    "\n",
    "| Borough | Population |\n",
    "| --- | --- |\n",
    "| Bronx | 1446788 |\n",
    "| Brooklyn | 2648452 |\n",
    "| Manhattan | 1638281 |\n",
    "| Queens | 2330295 |\n",
    "| Staten Island | 487155 |  \n",
    "\n",
    "  \n",
    "- We look for the leading cause of crashes\n",
    "\n",
    "- We also look for the top-3 causes of crashes, and try to calculate what proportion of all crashes are caused by these top-3 causes.\n",
    "\n",
    "- We then look to some of the more serious implications of crashes by examining how many accidents involved at least one fatality.\n",
    "\n",
    "- We then compute, on average, out of every 1000 accidents, how many have resulted in at least one person dead.\n",
    "\n",
    "- We also look for missing data and try to compute the proportion of accidents in the data that do not have a Borough code.\n",
    "\n",
    "- The fields 'VEHICLE TYPE CODE 1' and 'VEHICLE TYPE CODE 2' represent the first two vehicles involved in the accident.  We look for which combinations of vehicles have the most number of accidents.\n"
   ]
  },
  {
   "cell_type": "code",
   "execution_count": 1,
   "id": "47cb6828-43a2-4095-9005-bf6922417f5e",
   "metadata": {
    "tags": []
   },
   "outputs": [],
   "source": [
    "import pandas as pd\n",
    "import numpy as np\n",
    "import seaborn as sns\n",
    "import os\n",
    "import matplotlib.pyplot as plt\n",
    "import phik\n",
    "from IPython.display import Markdown as md"
   ]
  },
  {
   "cell_type": "markdown",
   "id": "3946cc64-4e7a-40af-bafa-c064eb301f7c",
   "metadata": {},
   "source": [
    "***\n",
    "### Show some exploratory data analysis here\n",
    "***"
   ]
  },
  {
   "cell_type": "code",
   "execution_count": 2,
   "id": "0ee4df3a-0dfa-4c62-b27d-7d74597881fa",
   "metadata": {},
   "outputs": [
    {
     "data": {
      "text/html": [
       "<div>\n",
       "<style scoped>\n",
       "    .dataframe tbody tr th:only-of-type {\n",
       "        vertical-align: middle;\n",
       "    }\n",
       "\n",
       "    .dataframe tbody tr th {\n",
       "        vertical-align: top;\n",
       "    }\n",
       "\n",
       "    .dataframe thead th {\n",
       "        text-align: right;\n",
       "    }\n",
       "</style>\n",
       "<table border=\"1\" class=\"dataframe\">\n",
       "  <thead>\n",
       "    <tr style=\"text-align: right;\">\n",
       "      <th></th>\n",
       "      <th>CRASH DATE_CRASH TIME</th>\n",
       "      <th>BOROUGH</th>\n",
       "      <th>ZIP CODE</th>\n",
       "      <th>LATITUDE</th>\n",
       "      <th>LONGITUDE</th>\n",
       "      <th>LOCATION</th>\n",
       "      <th>ON STREET NAME</th>\n",
       "      <th>CROSS STREET NAME</th>\n",
       "      <th>OFF STREET NAME</th>\n",
       "      <th>NUMBER OF PERSONS INJURED</th>\n",
       "      <th>...</th>\n",
       "      <th>CONTRIBUTING FACTOR VEHICLE 2</th>\n",
       "      <th>CONTRIBUTING FACTOR VEHICLE 3</th>\n",
       "      <th>CONTRIBUTING FACTOR VEHICLE 4</th>\n",
       "      <th>CONTRIBUTING FACTOR VEHICLE 5</th>\n",
       "      <th>COLLISION_ID</th>\n",
       "      <th>VEHICLE TYPE CODE 1</th>\n",
       "      <th>VEHICLE TYPE CODE 2</th>\n",
       "      <th>VEHICLE TYPE CODE 3</th>\n",
       "      <th>VEHICLE TYPE CODE 4</th>\n",
       "      <th>VEHICLE TYPE CODE 5</th>\n",
       "    </tr>\n",
       "  </thead>\n",
       "  <tbody>\n",
       "    <tr>\n",
       "      <th>0</th>\n",
       "      <td>2021-09-11 02:39:00</td>\n",
       "      <td>NaN</td>\n",
       "      <td>NaN</td>\n",
       "      <td>NaN</td>\n",
       "      <td>NaN</td>\n",
       "      <td>NaN</td>\n",
       "      <td>WHITESTONE EXPRESSWAY</td>\n",
       "      <td>20 AVENUE</td>\n",
       "      <td>NaN</td>\n",
       "      <td>2.0</td>\n",
       "      <td>...</td>\n",
       "      <td>Unspecified</td>\n",
       "      <td>NaN</td>\n",
       "      <td>NaN</td>\n",
       "      <td>NaN</td>\n",
       "      <td>4455765</td>\n",
       "      <td>Sedan</td>\n",
       "      <td>Sedan</td>\n",
       "      <td>NaN</td>\n",
       "      <td>NaN</td>\n",
       "      <td>NaN</td>\n",
       "    </tr>\n",
       "    <tr>\n",
       "      <th>1</th>\n",
       "      <td>2022-03-26 11:45:00</td>\n",
       "      <td>NaN</td>\n",
       "      <td>NaN</td>\n",
       "      <td>NaN</td>\n",
       "      <td>NaN</td>\n",
       "      <td>NaN</td>\n",
       "      <td>QUEENSBORO BRIDGE UPPER</td>\n",
       "      <td>NaN</td>\n",
       "      <td>NaN</td>\n",
       "      <td>1.0</td>\n",
       "      <td>...</td>\n",
       "      <td>NaN</td>\n",
       "      <td>NaN</td>\n",
       "      <td>NaN</td>\n",
       "      <td>NaN</td>\n",
       "      <td>4513547</td>\n",
       "      <td>Sedan</td>\n",
       "      <td>NaN</td>\n",
       "      <td>NaN</td>\n",
       "      <td>NaN</td>\n",
       "      <td>NaN</td>\n",
       "    </tr>\n",
       "    <tr>\n",
       "      <th>2</th>\n",
       "      <td>2022-06-29 06:55:00</td>\n",
       "      <td>NaN</td>\n",
       "      <td>NaN</td>\n",
       "      <td>NaN</td>\n",
       "      <td>NaN</td>\n",
       "      <td>NaN</td>\n",
       "      <td>THROGS NECK BRIDGE</td>\n",
       "      <td>NaN</td>\n",
       "      <td>NaN</td>\n",
       "      <td>0.0</td>\n",
       "      <td>...</td>\n",
       "      <td>Unspecified</td>\n",
       "      <td>NaN</td>\n",
       "      <td>NaN</td>\n",
       "      <td>NaN</td>\n",
       "      <td>4541903</td>\n",
       "      <td>Sedan</td>\n",
       "      <td>Pick-up Truck</td>\n",
       "      <td>NaN</td>\n",
       "      <td>NaN</td>\n",
       "      <td>NaN</td>\n",
       "    </tr>\n",
       "    <tr>\n",
       "      <th>3</th>\n",
       "      <td>2021-09-11 09:35:00</td>\n",
       "      <td>BROOKLYN</td>\n",
       "      <td>11208.0</td>\n",
       "      <td>40.667202</td>\n",
       "      <td>-73.866500</td>\n",
       "      <td>(40.667202, -73.8665)</td>\n",
       "      <td>NaN</td>\n",
       "      <td>NaN</td>\n",
       "      <td>1211      LORING AVENUE</td>\n",
       "      <td>0.0</td>\n",
       "      <td>...</td>\n",
       "      <td>NaN</td>\n",
       "      <td>NaN</td>\n",
       "      <td>NaN</td>\n",
       "      <td>NaN</td>\n",
       "      <td>4456314</td>\n",
       "      <td>Sedan</td>\n",
       "      <td>NaN</td>\n",
       "      <td>NaN</td>\n",
       "      <td>NaN</td>\n",
       "      <td>NaN</td>\n",
       "    </tr>\n",
       "    <tr>\n",
       "      <th>4</th>\n",
       "      <td>2021-12-14 08:13:00</td>\n",
       "      <td>BROOKLYN</td>\n",
       "      <td>11233.0</td>\n",
       "      <td>40.683304</td>\n",
       "      <td>-73.917274</td>\n",
       "      <td>(40.683304, -73.917274)</td>\n",
       "      <td>SARATOGA AVENUE</td>\n",
       "      <td>DECATUR STREET</td>\n",
       "      <td>NaN</td>\n",
       "      <td>0.0</td>\n",
       "      <td>...</td>\n",
       "      <td>NaN</td>\n",
       "      <td>NaN</td>\n",
       "      <td>NaN</td>\n",
       "      <td>NaN</td>\n",
       "      <td>4486609</td>\n",
       "      <td>NaN</td>\n",
       "      <td>NaN</td>\n",
       "      <td>NaN</td>\n",
       "      <td>NaN</td>\n",
       "      <td>NaN</td>\n",
       "    </tr>\n",
       "    <tr>\n",
       "      <th>...</th>\n",
       "      <td>...</td>\n",
       "      <td>...</td>\n",
       "      <td>...</td>\n",
       "      <td>...</td>\n",
       "      <td>...</td>\n",
       "      <td>...</td>\n",
       "      <td>...</td>\n",
       "      <td>...</td>\n",
       "      <td>...</td>\n",
       "      <td>...</td>\n",
       "      <td>...</td>\n",
       "      <td>...</td>\n",
       "      <td>...</td>\n",
       "      <td>...</td>\n",
       "      <td>...</td>\n",
       "      <td>...</td>\n",
       "      <td>...</td>\n",
       "      <td>...</td>\n",
       "      <td>...</td>\n",
       "      <td>...</td>\n",
       "      <td>...</td>\n",
       "    </tr>\n",
       "    <tr>\n",
       "      <th>2018240</th>\n",
       "      <td>2023-07-03 18:05:00</td>\n",
       "      <td>NaN</td>\n",
       "      <td>NaN</td>\n",
       "      <td>40.866806</td>\n",
       "      <td>-73.931010</td>\n",
       "      <td>(40.866806, -73.93101)</td>\n",
       "      <td>RIVERSIDE DRIVE</td>\n",
       "      <td>NaN</td>\n",
       "      <td>NaN</td>\n",
       "      <td>0.0</td>\n",
       "      <td>...</td>\n",
       "      <td>Unspecified</td>\n",
       "      <td>NaN</td>\n",
       "      <td>NaN</td>\n",
       "      <td>NaN</td>\n",
       "      <td>4648110</td>\n",
       "      <td>Sedan</td>\n",
       "      <td>Sedan</td>\n",
       "      <td>NaN</td>\n",
       "      <td>NaN</td>\n",
       "      <td>NaN</td>\n",
       "    </tr>\n",
       "    <tr>\n",
       "      <th>2018241</th>\n",
       "      <td>2023-07-22 21:39:00</td>\n",
       "      <td>BRONX</td>\n",
       "      <td>10457.0</td>\n",
       "      <td>40.844177</td>\n",
       "      <td>-73.902920</td>\n",
       "      <td>(40.844177, -73.90292)</td>\n",
       "      <td>EAST 174 STREET</td>\n",
       "      <td>WEBSTER AVENUE</td>\n",
       "      <td>NaN</td>\n",
       "      <td>1.0</td>\n",
       "      <td>...</td>\n",
       "      <td>NaN</td>\n",
       "      <td>NaN</td>\n",
       "      <td>NaN</td>\n",
       "      <td>NaN</td>\n",
       "      <td>4648117</td>\n",
       "      <td>Sedan</td>\n",
       "      <td>NaN</td>\n",
       "      <td>NaN</td>\n",
       "      <td>NaN</td>\n",
       "      <td>NaN</td>\n",
       "    </tr>\n",
       "    <tr>\n",
       "      <th>2018242</th>\n",
       "      <td>2023-07-02 17:55:00</td>\n",
       "      <td>MANHATTAN</td>\n",
       "      <td>10006.0</td>\n",
       "      <td>40.711033</td>\n",
       "      <td>-74.014540</td>\n",
       "      <td>(40.711033, -74.01454)</td>\n",
       "      <td>WEST STREET</td>\n",
       "      <td>LIBERTY STREET</td>\n",
       "      <td>NaN</td>\n",
       "      <td>0.0</td>\n",
       "      <td>...</td>\n",
       "      <td>NaN</td>\n",
       "      <td>NaN</td>\n",
       "      <td>NaN</td>\n",
       "      <td>NaN</td>\n",
       "      <td>4648366</td>\n",
       "      <td>Taxi</td>\n",
       "      <td>NaN</td>\n",
       "      <td>NaN</td>\n",
       "      <td>NaN</td>\n",
       "      <td>NaN</td>\n",
       "    </tr>\n",
       "    <tr>\n",
       "      <th>2018243</th>\n",
       "      <td>2023-07-22 13:15:00</td>\n",
       "      <td>QUEENS</td>\n",
       "      <td>11433.0</td>\n",
       "      <td>40.691580</td>\n",
       "      <td>-73.793190</td>\n",
       "      <td>(40.69158, -73.79319)</td>\n",
       "      <td>110 AVENUE</td>\n",
       "      <td>157 STREET</td>\n",
       "      <td>NaN</td>\n",
       "      <td>1.0</td>\n",
       "      <td>...</td>\n",
       "      <td>Driver Inattention/Distraction</td>\n",
       "      <td>NaN</td>\n",
       "      <td>NaN</td>\n",
       "      <td>NaN</td>\n",
       "      <td>4648129</td>\n",
       "      <td>Station Wagon/Sport Utility Vehicle</td>\n",
       "      <td>E-Bike</td>\n",
       "      <td>NaN</td>\n",
       "      <td>NaN</td>\n",
       "      <td>NaN</td>\n",
       "    </tr>\n",
       "    <tr>\n",
       "      <th>2018244</th>\n",
       "      <td>2023-07-22 03:00:00</td>\n",
       "      <td>QUEENS</td>\n",
       "      <td>11433.0</td>\n",
       "      <td>40.700240</td>\n",
       "      <td>-73.792854</td>\n",
       "      <td>(40.70024, -73.792854)</td>\n",
       "      <td>SOUTH ROAD</td>\n",
       "      <td>164 STREET</td>\n",
       "      <td>NaN</td>\n",
       "      <td>0.0</td>\n",
       "      <td>...</td>\n",
       "      <td>NaN</td>\n",
       "      <td>NaN</td>\n",
       "      <td>NaN</td>\n",
       "      <td>NaN</td>\n",
       "      <td>4647913</td>\n",
       "      <td>Sedan</td>\n",
       "      <td>NaN</td>\n",
       "      <td>NaN</td>\n",
       "      <td>NaN</td>\n",
       "      <td>NaN</td>\n",
       "    </tr>\n",
       "  </tbody>\n",
       "</table>\n",
       "<p>2018245 rows × 28 columns</p>\n",
       "</div>"
      ],
      "text/plain": [
       "        CRASH DATE_CRASH TIME    BOROUGH ZIP CODE   LATITUDE  LONGITUDE  \\\n",
       "0         2021-09-11 02:39:00        NaN      NaN        NaN        NaN   \n",
       "1         2022-03-26 11:45:00        NaN      NaN        NaN        NaN   \n",
       "2         2022-06-29 06:55:00        NaN      NaN        NaN        NaN   \n",
       "3         2021-09-11 09:35:00   BROOKLYN  11208.0  40.667202 -73.866500   \n",
       "4         2021-12-14 08:13:00   BROOKLYN  11233.0  40.683304 -73.917274   \n",
       "...                       ...        ...      ...        ...        ...   \n",
       "2018240   2023-07-03 18:05:00        NaN      NaN  40.866806 -73.931010   \n",
       "2018241   2023-07-22 21:39:00      BRONX  10457.0  40.844177 -73.902920   \n",
       "2018242   2023-07-02 17:55:00  MANHATTAN  10006.0  40.711033 -74.014540   \n",
       "2018243   2023-07-22 13:15:00     QUEENS  11433.0  40.691580 -73.793190   \n",
       "2018244   2023-07-22 03:00:00     QUEENS  11433.0  40.700240 -73.792854   \n",
       "\n",
       "                        LOCATION           ON STREET NAME CROSS STREET NAME  \\\n",
       "0                            NaN    WHITESTONE EXPRESSWAY         20 AVENUE   \n",
       "1                            NaN  QUEENSBORO BRIDGE UPPER               NaN   \n",
       "2                            NaN       THROGS NECK BRIDGE               NaN   \n",
       "3          (40.667202, -73.8665)                      NaN               NaN   \n",
       "4        (40.683304, -73.917274)          SARATOGA AVENUE    DECATUR STREET   \n",
       "...                          ...                      ...               ...   \n",
       "2018240   (40.866806, -73.93101)          RIVERSIDE DRIVE               NaN   \n",
       "2018241   (40.844177, -73.90292)          EAST 174 STREET    WEBSTER AVENUE   \n",
       "2018242   (40.711033, -74.01454)              WEST STREET    LIBERTY STREET   \n",
       "2018243    (40.69158, -73.79319)               110 AVENUE        157 STREET   \n",
       "2018244   (40.70024, -73.792854)               SOUTH ROAD        164 STREET   \n",
       "\n",
       "                 OFF STREET NAME  NUMBER OF PERSONS INJURED  ...  \\\n",
       "0                            NaN                        2.0  ...   \n",
       "1                            NaN                        1.0  ...   \n",
       "2                            NaN                        0.0  ...   \n",
       "3        1211      LORING AVENUE                        0.0  ...   \n",
       "4                            NaN                        0.0  ...   \n",
       "...                          ...                        ...  ...   \n",
       "2018240                      NaN                        0.0  ...   \n",
       "2018241                      NaN                        1.0  ...   \n",
       "2018242                      NaN                        0.0  ...   \n",
       "2018243                      NaN                        1.0  ...   \n",
       "2018244                      NaN                        0.0  ...   \n",
       "\n",
       "          CONTRIBUTING FACTOR VEHICLE 2  CONTRIBUTING FACTOR VEHICLE 3  \\\n",
       "0                           Unspecified                            NaN   \n",
       "1                                   NaN                            NaN   \n",
       "2                           Unspecified                            NaN   \n",
       "3                                   NaN                            NaN   \n",
       "4                                   NaN                            NaN   \n",
       "...                                 ...                            ...   \n",
       "2018240                     Unspecified                            NaN   \n",
       "2018241                             NaN                            NaN   \n",
       "2018242                             NaN                            NaN   \n",
       "2018243  Driver Inattention/Distraction                            NaN   \n",
       "2018244                             NaN                            NaN   \n",
       "\n",
       "         CONTRIBUTING FACTOR VEHICLE 4  CONTRIBUTING FACTOR VEHICLE 5  \\\n",
       "0                                  NaN                            NaN   \n",
       "1                                  NaN                            NaN   \n",
       "2                                  NaN                            NaN   \n",
       "3                                  NaN                            NaN   \n",
       "4                                  NaN                            NaN   \n",
       "...                                ...                            ...   \n",
       "2018240                            NaN                            NaN   \n",
       "2018241                            NaN                            NaN   \n",
       "2018242                            NaN                            NaN   \n",
       "2018243                            NaN                            NaN   \n",
       "2018244                            NaN                            NaN   \n",
       "\n",
       "         COLLISION_ID                  VEHICLE TYPE CODE 1  \\\n",
       "0             4455765                                Sedan   \n",
       "1             4513547                                Sedan   \n",
       "2             4541903                                Sedan   \n",
       "3             4456314                                Sedan   \n",
       "4             4486609                                  NaN   \n",
       "...               ...                                  ...   \n",
       "2018240       4648110                                Sedan   \n",
       "2018241       4648117                                Sedan   \n",
       "2018242       4648366                                 Taxi   \n",
       "2018243       4648129  Station Wagon/Sport Utility Vehicle   \n",
       "2018244       4647913                                Sedan   \n",
       "\n",
       "         VEHICLE TYPE CODE 2 VEHICLE TYPE CODE 3 VEHICLE TYPE CODE 4  \\\n",
       "0                      Sedan                 NaN                 NaN   \n",
       "1                        NaN                 NaN                 NaN   \n",
       "2              Pick-up Truck                 NaN                 NaN   \n",
       "3                        NaN                 NaN                 NaN   \n",
       "4                        NaN                 NaN                 NaN   \n",
       "...                      ...                 ...                 ...   \n",
       "2018240                Sedan                 NaN                 NaN   \n",
       "2018241                  NaN                 NaN                 NaN   \n",
       "2018242                  NaN                 NaN                 NaN   \n",
       "2018243               E-Bike                 NaN                 NaN   \n",
       "2018244                  NaN                 NaN                 NaN   \n",
       "\n",
       "        VEHICLE TYPE CODE 5  \n",
       "0                       NaN  \n",
       "1                       NaN  \n",
       "2                       NaN  \n",
       "3                       NaN  \n",
       "4                       NaN  \n",
       "...                     ...  \n",
       "2018240                 NaN  \n",
       "2018241                 NaN  \n",
       "2018242                 NaN  \n",
       "2018243                 NaN  \n",
       "2018244                 NaN  \n",
       "\n",
       "[2018245 rows x 28 columns]"
      ]
     },
     "execution_count": 2,
     "metadata": {},
     "output_type": "execute_result"
    }
   ],
   "source": [
    "df = pd.read_pickle(\"shared/Motor_Vehicle_Collisions_-_Crashes.pkl\")\n",
    "df"
   ]
  },
  {
   "cell_type": "markdown",
   "id": "2f44c88c-9d3b-446d-9e95-f9c6e435ceca",
   "metadata": {},
   "source": [
    "## Borough with the maximum number of crashes reported since 2012"
   ]
  },
  {
   "cell_type": "code",
   "execution_count": 3,
   "id": "6198fd4c-c4ad-4796-a9bf-d2a1a0f56d8f",
   "metadata": {
    "tags": []
   },
   "outputs": [],
   "source": [
    "df['CRASH DATE_CRASH TIME'] = pd.to_datetime(df['CRASH DATE_CRASH TIME'])\n",
    "start_date = pd.to_datetime('2012-01-01')\n",
    "df2012 = df[df['CRASH DATE_CRASH TIME'] >= ('2012-01-01')]\n"
   ]
  },
  {
   "cell_type": "code",
   "execution_count": 4,
   "id": "6eb00b16-044b-4bf0-8f08-012638113239",
   "metadata": {
    "tags": []
   },
   "outputs": [
    {
     "data": {
      "text/plain": [
       "BOROUGH\n",
       "BROOKLYN         441026\n",
       "QUEENS           372457\n",
       "MANHATTAN        313266\n",
       "BRONX            205345\n",
       "STATEN ISLAND     58297\n",
       "Name: count, dtype: int64"
      ]
     },
     "execution_count": 4,
     "metadata": {},
     "output_type": "execute_result"
    }
   ],
   "source": [
    "df2012.value_counts(df.BOROUGH)"
   ]
  },
  {
   "cell_type": "markdown",
   "id": "e921f911-7171-435a-8afa-156e8dfead44",
   "metadata": {},
   "source": [
    "## Borough with the maximum number of crashes adjusted for population"
   ]
  },
  {
   "cell_type": "code",
   "execution_count": 5,
   "id": "96284531-b110-44d1-ba86-419d80654fd0",
   "metadata": {
    "tags": []
   },
   "outputs": [],
   "source": [
    "ccount = df2012.value_counts(df.BOROUGH)"
   ]
  },
  {
   "cell_type": "code",
   "execution_count": 6,
   "id": "fdbba051-6e87-460a-a2fb-373dafdc862f",
   "metadata": {},
   "outputs": [],
   "source": [
    "pop={'BRONX': 1446788,'BROOKLYN': 2648452,'MANHATTAN': 1638281,'QUEENS': 2330295,'STATEN ISLAND': 487155}"
   ]
  },
  {
   "cell_type": "code",
   "execution_count": 7,
   "id": "4c7ed705-12d6-4f07-b7f4-24416de92b83",
   "metadata": {},
   "outputs": [
    {
     "data": {
      "text/plain": [
       "{'BROOKLYN': 16652.2179748774,\n",
       " 'QUEENS': 15983.255338916317,\n",
       " 'MANHATTAN': 19121.628096767283,\n",
       " 'BRONX': 14193.164444272415,\n",
       " 'STATEN ISLAND': 11966.827806345003}"
      ]
     },
     "execution_count": 7,
     "metadata": {},
     "output_type": "execute_result"
    }
   ],
   "source": [
    "adj = {borough: (ccount[borough] / pop[borough]) * 100000 for borough in ccount.index}\n",
    "adj"
   ]
  },
  {
   "cell_type": "markdown",
   "id": "b83286d6-8960-4728-ab90-58abbb52aba5",
   "metadata": {},
   "source": [
    "## Analyzing the leading cause of crashes"
   ]
  },
  {
   "cell_type": "code",
   "execution_count": 8,
   "id": "6a38b815-d247-42bc-a319-bb3f29abe100",
   "metadata": {},
   "outputs": [
    {
     "data": {
      "text/plain": [
       "'Driver Inattention/Distraction'"
      ]
     },
     "execution_count": 8,
     "metadata": {},
     "output_type": "execute_result"
    }
   ],
   "source": [
    "cfv= df.drop(df[df['CONTRIBUTING FACTOR VEHICLE 1'] == 'Unspecified'].index)\n",
    "leadingcause = cfv['CONTRIBUTING FACTOR VEHICLE 1'].mode().values[0]\n",
    "leadingcause"
   ]
  },
  {
   "cell_type": "code",
   "execution_count": 9,
   "id": "0a283ad9-0b4e-44c3-bf6f-7a7c78126490",
   "metadata": {
    "tags": []
   },
   "outputs": [
    {
     "data": {
      "text/plain": [
       "0.3027229539746618"
      ]
     },
     "execution_count": 9,
     "metadata": {},
     "output_type": "execute_result"
    }
   ],
   "source": [
    "accidents = len(cfv)\n",
    "leadingcausecount = len(cfv[cfv['CONTRIBUTING FACTOR VEHICLE 1'] == leadingcause])\n",
    "prop = leadingcausecount / accidents\n",
    "prop"
   ]
  },
  {
   "cell_type": "markdown",
   "id": "f573ca81-b9e5-40a4-a821-db822222b79b",
   "metadata": {},
   "source": [
    "## Top 3 causes of crashes "
   ]
  },
  {
   "cell_type": "code",
   "execution_count": 10,
   "id": "3976cc2b-c3de-4f80-86e8-dbbdabf4a3b3",
   "metadata": {},
   "outputs": [
    {
     "data": {
      "text/plain": [
       "0.4737010461641528"
      ]
     },
     "execution_count": 10,
     "metadata": {},
     "output_type": "execute_result"
    }
   ],
   "source": [
    "top3 = cfv['CONTRIBUTING FACTOR VEHICLE 1'].value_counts().head(3)\n",
    "prop = top3.sum() / accidents\n",
    "prop"
   ]
  },
  {
   "cell_type": "markdown",
   "id": "fc34266d-030f-4173-9440-b996686378c7",
   "metadata": {},
   "source": [
    "## Analyzing fatalities"
   ]
  },
  {
   "cell_type": "code",
   "execution_count": 11,
   "id": "dd1d85a4-2bbb-43a2-8c83-bcb4aac99977",
   "metadata": {},
   "outputs": [],
   "source": [
    "df2012droped = df2012.dropna(subset=['NUMBER OF PERSONS KILLED'])"
   ]
  },
  {
   "cell_type": "code",
   "execution_count": 12,
   "id": "913686e0-413a-429e-9231-5efde0944f05",
   "metadata": {
    "tags": []
   },
   "outputs": [
    {
     "data": {
      "text/plain": [
       "2804"
      ]
     },
     "execution_count": 12,
     "metadata": {},
     "output_type": "execute_result"
    }
   ],
   "source": [
    "onef = (df2012droped['NUMBER OF PERSONS KILLED'] >= 1).sum()\n",
    "onef"
   ]
  },
  {
   "cell_type": "markdown",
   "id": "2e42ce8f-cde1-47e3-80e7-7802efe01654",
   "metadata": {},
   "source": [
    "## Likelihood of fatal accidents\n",
    "#### On average, out of every 1000 accidents, how many have resulted in at least one person dead?"
   ]
  },
  {
   "cell_type": "code",
   "execution_count": 13,
   "id": "dedab9d3-59f9-43f1-b029-724b51ee206f",
   "metadata": {},
   "outputs": [
    {
     "data": {
      "text/plain": [
       "1.3893472149137802"
      ]
     },
     "execution_count": 13,
     "metadata": {},
     "output_type": "execute_result"
    }
   ],
   "source": [
    "totalaccd = len(df2012droped)\n",
    "deathper1000 = (onef / totalaccd * 1000)\n",
    "deathper1000"
   ]
  },
  {
   "cell_type": "markdown",
   "id": "c90aed17-df96-4b6f-99a9-b82cedc19f15",
   "metadata": {},
   "source": [
    "## Missing data\n",
    "#### What proportion of accidents in the data do not have a Borough code?"
   ]
  },
  {
   "cell_type": "code",
   "execution_count": 14,
   "id": "5811cc7e-4cd0-44f6-a8fb-b6d8ad496166",
   "metadata": {},
   "outputs": [
    {
     "data": {
      "text/plain": [
       "0.3110890897784957"
      ]
     },
     "execution_count": 14,
     "metadata": {},
     "output_type": "execute_result"
    }
   ],
   "source": [
    "totalacc = len(df)\n",
    "missborough = df['BOROUGH'].isna().sum()\n",
    "prop = (missborough / totalacc)\n",
    "prop"
   ]
  },
  {
   "cell_type": "markdown",
   "id": "4104a464-f5b4-4734-af57-d18890c62deb",
   "metadata": {},
   "source": [
    "## Which combinations of vehicles have the most number of accidents"
   ]
  },
  {
   "cell_type": "code",
   "execution_count": 15,
   "id": "f00bac74-186c-46dc-a957-efff3e5528cd",
   "metadata": {},
   "outputs": [
    {
     "data": {
      "text/html": [
       "<div>\n",
       "<style scoped>\n",
       "    .dataframe tbody tr th:only-of-type {\n",
       "        vertical-align: middle;\n",
       "    }\n",
       "\n",
       "    .dataframe tbody tr th {\n",
       "        vertical-align: top;\n",
       "    }\n",
       "\n",
       "    .dataframe thead th {\n",
       "        text-align: right;\n",
       "    }\n",
       "</style>\n",
       "<table border=\"1\" class=\"dataframe\">\n",
       "  <thead>\n",
       "    <tr style=\"text-align: right;\">\n",
       "      <th></th>\n",
       "      <th>VEHICLE TYPE CODE 1</th>\n",
       "      <th>VEHICLE TYPE CODE 2</th>\n",
       "      <th>count</th>\n",
       "    </tr>\n",
       "  </thead>\n",
       "  <tbody>\n",
       "    <tr>\n",
       "      <th>3948</th>\n",
       "      <td>Sedan</td>\n",
       "      <td>Sedan</td>\n",
       "      <td>197944</td>\n",
       "    </tr>\n",
       "  </tbody>\n",
       "</table>\n",
       "</div>"
      ],
      "text/plain": [
       "     VEHICLE TYPE CODE 1 VEHICLE TYPE CODE 2   count\n",
       "3948               Sedan               Sedan  197944"
      ]
     },
     "execution_count": 15,
     "metadata": {},
     "output_type": "execute_result"
    }
   ],
   "source": [
    "combs = df.groupby(['VEHICLE TYPE CODE 1', 'VEHICLE TYPE CODE 2']).size().reset_index(name='count')\n",
    "mostcombs = combs[combs['count'] == combs['count'].max()]\n",
    "mostcombs"
   ]
  },
  {
   "cell_type": "markdown",
   "id": "5f7028eb-767c-456a-9bfd-0b94975be997",
   "metadata": {},
   "source": [
    "***  \n",
    "## Finished"
   ]
  },
  {
   "cell_type": "code",
   "execution_count": null,
   "id": "a05e6563-6955-4394-8d14-af904c5dca2a",
   "metadata": {},
   "outputs": [],
   "source": []
  },
  {
   "cell_type": "code",
   "execution_count": null,
   "id": "d94036c0-7ff4-4807-bd91-63294740314d",
   "metadata": {},
   "outputs": [],
   "source": []
  }
 ],
 "metadata": {
  "kernelspec": {
   "display_name": "Python [conda env:mggy8413]",
   "language": "python",
   "name": "conda-env-mggy8413-py"
  },
  "language_info": {
   "codemirror_mode": {
    "name": "ipython",
    "version": 3
   },
   "file_extension": ".py",
   "mimetype": "text/x-python",
   "name": "python",
   "nbconvert_exporter": "python",
   "pygments_lexer": "ipython3",
   "version": "3.10.12"
  }
 },
 "nbformat": 4,
 "nbformat_minor": 5
}
